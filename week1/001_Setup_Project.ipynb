{
  "nbformat": 4,
  "nbformat_minor": 0,
  "metadata": {
    "colab": {
      "provenance": [],
      "toc_visible": true
    },
    "kernelspec": {
      "name": "python3",
      "display_name": "Python 3"
    },
    "language_info": {
      "name": "python"
    }
  },
  "cells": [
    {
      "cell_type": "markdown",
      "source": [
        "#Git"
      ],
      "metadata": {
        "id": "RFNyxy1bRGnk"
      }
    },
    {
      "cell_type": "code",
      "source": [
        "p@MacBook-Pro-p dev % ls -l\n",
        "total 0\n",
        "drwxr-xr-x@  18 p  staff   576 19 lis 20:43 Airflow\n",
        "drwxr-xr-x   22 p  staff   704 31 sty 14:39 Apache-Beam\n",
        "drwxr-xr-x@  13 p  staff   416 13 lut 19:29 Google-Cloud-Platform\n",
        "drwxr-xr-x@  28 p  staff   896 14 lut 08:17 LLM-Engineering\n",
        "drwxr-xr-x   10 p  staff   320 15 gru 16:55 Machine-Learning\n",
        "drwxr-xr-x@ 103 p  staff  3296 31 gru 15:13 Programming"
      ],
      "metadata": {
        "id": "3MlEwgYnPMch"
      },
      "execution_count": null,
      "outputs": []
    },
    {
      "cell_type": "code",
      "source": [
        "mkdir LLM-Engineering\n",
        "cd /Users/p/Documents/dev/LLM-Engineering"
      ],
      "metadata": {
        "id": "jZ3J-Ks1POmA"
      },
      "execution_count": null,
      "outputs": []
    },
    {
      "cell_type": "code",
      "execution_count": null,
      "metadata": {
        "id": "ytHXVFOKOijj"
      },
      "outputs": [],
      "source": [
        "https://github.com/ed-donner/llm_engineering.git # URL projektu\n",
        "git clone https://github.com/ed-donner/llm_engineering.git # Pobranie lokalnie projektu"
      ]
    },
    {
      "cell_type": "markdown",
      "source": [
        "#Anaconda"
      ],
      "metadata": {
        "id": "xzTkHPiGRI3o"
      }
    },
    {
      "cell_type": "code",
      "source": [
        "https://docs.anaconda.com/anaconda/install/mac-os/ # Instalacja\n",
        "Applications > Utilities > Terminal\n",
        "cd /Users/p/Documents/dev/LLM-Engineering\n",
        "conda env create -f environment.yml\n",
        "conda activate llms\n",
        "jupyter lab # Uruchomienie Jupyter\n",
        "conda deactivate # Wyjście z środowiska"
      ],
      "metadata": {
        "id": "KtZabdKQRJxn"
      },
      "execution_count": null,
      "outputs": []
    },
    {
      "cell_type": "markdown",
      "source": [
        "#venv"
      ],
      "metadata": {
        "id": "YiY9zGpoR0dN"
      }
    },
    {
      "cell_type": "code",
      "source": [
        "cd /Users/p/Documents/dev/LLM-Engineering\n",
        "python3 -m venv venv\n",
        "source venv/bin/activate\n",
        "python -m pip install --upgrade pip\n",
        "pip install --no-cache-dir python-dotenv # Instalacja pojedyńczej biblioteki\n",
        "pip install -r requirements.txt # Instalacja wszystkich bibliotek\n",
        "pip install --retries 5 --timeout 15 --no-cache-dir --force-reinstall -r requirements.txt # Instalacja wszystkich bibliotek\n",
        "pip show jupyterlab # Sprawdź, czy Jupyter jest poprawnie zainstalowany\n",
        "python -m jupyterlab # Uruchomienie Jupyter\n",
        "jupyter lab # Uruchomienie Jupyter"
      ],
      "metadata": {
        "id": "2MCfpoGYR1Dy"
      },
      "execution_count": null,
      "outputs": []
    },
    {
      "cell_type": "markdown",
      "source": [
        "#.env"
      ],
      "metadata": {
        "id": "Ke8aVcushDld"
      }
    },
    {
      "cell_type": "code",
      "source": [
        "cd /Users/p/Documents/dev/LLM-Engineering\n",
        "nano .env\n",
        "ls - a # Na Mac wszystkie pliki zaczynające się o kropki są ukryte\n",
        "cat .env # Sprawdzenie zawartości pliku .env"
      ],
      "metadata": {
        "id": "j4FFgogdhE0O"
      },
      "execution_count": null,
      "outputs": []
    },
    {
      "cell_type": "code",
      "source": [
        "OPENAI_API_KEY=\"sk-proj-aaaaaaaaaaaaaaaaaaaaaaaaaaaaaa\"\n",
        "\n",
        "GOOGLE_API_KEY=xxxx\n",
        "ANTHROPIC_API_KEY=xxxx\n",
        "DEEPSEEK_API_KEY=xxxx\n",
        "HF_TOKEN=xxxx"
      ],
      "metadata": {
        "id": "7cHYfb3yhV-Y"
      },
      "execution_count": null,
      "outputs": []
    }
  ]
}