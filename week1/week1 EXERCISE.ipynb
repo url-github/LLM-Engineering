{
 "cells": [
  {
   "cell_type": "markdown",
   "id": "fe12c203-e6a6-452c-a655-afb8a03a4ff5",
   "metadata": {},
   "source": [
    "# End of week 1 exercise\n",
    "\n",
    "To demonstrate your familiarity with OpenAI API, and also Ollama, build a tool that takes a technical question,  \n",
    "and responds with an explanation. This is a tool that you will be able to use yourself during the course!"
   ]
  },
  {
   "cell_type": "code",
   "execution_count": 2,
   "id": "c1070317-3ed9-4659-abe3-828943230e03",
   "metadata": {},
   "outputs": [],
   "source": [
    "# imports\n",
    "\n",
    "from dotenv import load_dotenv\n",
    "from IPython.display import Markdown, display, update_display\n",
    "from openai import OpenAI\n",
    "import ollama"
   ]
  },
  {
   "cell_type": "code",
   "execution_count": 3,
   "id": "4a456906-915a-4bfd-bb9d-57e505c5093f",
   "metadata": {},
   "outputs": [],
   "source": [
    "# constants\n",
    "\n",
    "MODEL_GPT = 'gpt-4o-mini'\n",
    "MODEL_LLAMA = 'llama3.2'"
   ]
  },
  {
   "cell_type": "code",
   "execution_count": 4,
   "id": "2281cbcd-88ae-4564-811f-e70a209bfc9b",
   "metadata": {},
   "outputs": [
    {
     "name": "stdout",
     "output_type": "stream",
     "text": [
      "NAME                ID              SIZE      MODIFIED     \n",
      "deepseek-r1:1.5b    a42b25d8c10a    1.1 GB    39 hours ago    \n",
      "llama3.2:latest     a80c4f17acd5    2.0 GB    2 days ago      \n"
     ]
    }
   ],
   "source": [
    "!ollama list # To wyświetli wszystkie modele dostępne w Twoim systemie."
   ]
  },
  {
   "cell_type": "code",
   "execution_count": 5,
   "id": "a8d7923c-5f28-4c30-8556-342d7c8497c1",
   "metadata": {},
   "outputs": [],
   "source": [
    "# set up environment\n",
    "\n",
    "load_dotenv()\n",
    "openai = OpenAI()"
   ]
  },
  {
   "cell_type": "code",
   "execution_count": 14,
   "id": "3f0d0137-52b0-47a8-81a8-11a90a010798",
   "metadata": {},
   "outputs": [],
   "source": [
    "# here is the question; type over this to ask something new\n",
    "\n",
    "programming = \"\"\"\n",
    "Dodaj szczegółowe wyjaśnienie bezpośrednio w kodzie każdej linijki kodu,/\n",
    "a następnie pod spodem napisz komentarz ogólny co robi ten kod i w jakim celu można go użyć./\n",
    "def stream_brochure(company_name, url):\n",
    "    stream = openai.chat.completions.create(\n",
    "        model=MODEL,\n",
    "        messages=[\n",
    "            {\"role\": \"system\", \"content\": system_prompt},\n",
    "            {\"role\": \"user\", \"content\": get_brochure_user_prompt(company_name, url)}\n",
    "          ],\n",
    "        stream=True\n",
    "    )\n",
    "    \n",
    "    response = \"\"\n",
    "    display_handle = display(Markdown(\"\"), display_id=True)\n",
    "    for chunk in stream:\n",
    "        response += chunk.choices[0].delta.content or ''\n",
    "        response = response.replace(\"```\",\"\").replace(\"markdown\", \"\")\n",
    "        update_display(Markdown(response), display_id=display_handle.display_id)\n",
    "\n",
    "\"\"\""
   ]
  },
  {
   "cell_type": "code",
   "execution_count": 15,
   "id": "4bfec310-0584-4cec-a37b-e33f2ffd8e41",
   "metadata": {},
   "outputs": [],
   "source": [
    "# messages\n",
    "\n",
    "messages = [\n",
    "    {\"role\": \"system\", \"content\": system_prompt},\n",
    "    {\"role\": \"user\", \"content\": user_prompt}\n",
    "]"
   ]
  },
  {
   "cell_type": "code",
   "execution_count": 16,
   "id": "de190a10-0dad-467d-a57f-2b81405fe3dc",
   "metadata": {},
   "outputs": [],
   "source": [
    "# prompts\n",
    "\n",
    "system_prompt = \"\"\"\n",
    "Jesteś pomocnym nauczycielem technicznym, który odpowiada na pytania dotyczące kodu Python, inżynierii oprogramowania,/\n",
    "nauki o danych i LLM\n",
    "\"\"\"\n",
    "user_prompt = \"Instrukcje dla Ciebie: \" + programming"
   ]
  },
  {
   "cell_type": "code",
   "execution_count": 17,
   "id": "60ce7000-a4a5-4cce-a261-e75ef45063b4",
   "metadata": {},
   "outputs": [
    {
     "data": {
      "text/markdown": [
       "python\n",
       "def stream_brochure(company_name, url):\n",
       "    # Definiujemy funkcję o nazwie stream_brochure, która przyjmuje dwa argumenty: company_name i url.\n",
       "    \n",
       "    stream = openai.chat.completions.create(\n",
       "        # Inicjujemy wywołanie do modelu AI OpenAI, aby uzyskać strumień odpowiedzi.\n",
       "        model=MODEL,  # Wybieramy model, który chcemy użyć (MODEL powinien być zdefiniowany wcześniej).\n",
       "        \n",
       "        messages=[\n",
       "            # Przekazujemy listę wiadomości do modelu jako kontekst dla generowania odpowiedzi.\n",
       "            {\"role\": \"system\", \"content\": system_prompt},  # Ustalamy kontekst systemowy za pomocą system_prompt.\n",
       "            {\"role\": \"user\", \"content\": get_brochure_user_prompt(company_name, url)}\n",
       "            # Utwierdzamy wiadomość od użytkownika, która jest generowana przez wywołanie funkcji get_brochure_user_prompt.\n",
       "            # Podajemy nazwę firmy i URL jako argumenty tej funkcji, aby dostarczyć odpowiedni prompt do modelu.\n",
       "        ],\n",
       "        stream=True  # Włączamy strumieniowe przetwarzanie, aby otrzymywać odpowiedź fragmentami w czasie rzeczywistym.\n",
       "    )\n",
       "    \n",
       "    response = \"\"  # Inicjujemy pusty string response, który będzie służył do akumulowania odpowiedzi.\n",
       "    display_handle = display(Markdown(\"\"), display_id=True)  # Inicjujemy wyświetlanie treści w formacie Markdown z unikalnym identyfikatorem.\n",
       "\n",
       "    for chunk in stream:  # Iterujemy przez każdy fragment odpowiedzi otrzymany ze strumienia.\n",
       "        response += chunk.choices[0].delta.content or ''  # Dodajemy zawartość fragmentu do odpowiedzi (jeśli istnieje).\n",
       "        response = response.replace(\"\",\"\").replace(\"\", \"\")  # Usuwamy niepotrzebne znaczniki z odpowiedzi (np.  i ).\n",
       "        \n",
       "        # Aktualizujemy wyświetlanie, aby pokazać najnowszą oraz zaktualizowaną wersję odpowiedzi w Markdown.\n",
       "        update_display(Markdown(response), display_id=display_handle.display_id)\n",
       "\n",
       "\n",
       "### Komentarz ogólny\n",
       "Funkcja `stream_brochure` służy do generowania i wyświetlania dokumentu informacyjnego (broszury) na podstawie danych dotyczących konkretnej firmy. Używa modelu AI OpenAI do tworzenia treści w odpowiedzi na zapytanie użytkownika, które odnosi się do podanej nazwy firmy oraz URL. Dzięki strumieniowemu przetwarzaniu, odpowiedzi są pokazywane w czasie rzeczywistym, co umożliwia obserwację postępu generowania treści. Funkcja ta może być użyta w interaktywnych aplikacjach lub narzędziach webowych, gdzie użytkownik potrzebuje dynamicznie generowanych materiałów promocyjnych."
      ],
      "text/plain": [
       "<IPython.core.display.Markdown object>"
      ]
     },
     "metadata": {},
     "output_type": "display_data"
    }
   ],
   "source": [
    "# Get gpt-4o-mini to answer, with streaming\n",
    "\n",
    "stream = openai.chat.completions.create(model=MODEL_GPT, messages=messages,stream=True)\n",
    "    \n",
    "response = \"\"\n",
    "display_handle = display(Markdown(\"\"), display_id=True)\n",
    "for chunk in stream:\n",
    "    response += chunk.choices[0].delta.content or ''\n",
    "    response = response.replace(\"```\",\"\").replace(\"markdown\", \"\")\n",
    "    update_display(Markdown(response), display_id=display_handle.display_id)"
   ]
  },
  {
   "cell_type": "code",
   "execution_count": 18,
   "id": "8f7c8ea8-4082-4ad0-8751-3301adcf6538",
   "metadata": {},
   "outputs": [
    {
     "data": {
      "text/markdown": [
       "Poniżej znajduje się wyjaśnienie kodu wraz z komentarzami:\n",
       "\n",
       "```python\n",
       "def stream_brochure(company_name, url):\n",
       "    # Otwarcie połączenia z usługą OpenAI do generowania tekstu\n",
       "    stream = openai.chat.completions.create(\n",
       "        model=MODEL,  # Adresuje określony model językowy w bazie danych OpenAI\n",
       "        messages=[\n",
       "            {\"role\": \"system\", \"content\": system_prompt},  # Zadanie początkowe dla modelu\n",
       "            {\"role\": \"user\", \"content\": get_brochure_user_prompt(company_name, url)}  # User Prompt z Daneami company_name i url\n",
       "          ],\n",
       "        stream=True  # Włączenie modełu do dostępu do strumienia danych\n",
       "    )\n",
       "\n",
       "    # Zmienna do przechowywania wyników generowanego tekstu\n",
       "    response = \"\"\n",
       "\n",
       "    # Wyświetlanie wyświeltania do displaya wraz z ID\n",
       "    display_handle = display(Markdown(\"\"), display_id=True)\n",
       "\n",
       "    # Pętla, która pobiera dane strumienia i aktualizuje wyświetlanie\n",
       "    for chunk in stream:\n",
       "        # Dodawanie do wyników generowanego tekstu\n",
       "        response += chunk.choices[0].delta.content or ''\n",
       "\n",
       "        # Usunięcie kodów źródłowych z wyników\n",
       "        response = response.replace(\"```\",\"\").replace(\"markdown\", \"\")\n",
       "\n",
       "        # Aktualizacja wyświetlanie ze nowym wynikiem\n",
       "        update_display(Markdown(response), display_id=display_handle.display_id)\n",
       "```\n",
       "\n",
       "**Komentarz ogólny:**\n",
       "Ten kod generuje tekst za pomocą modelu językowego w usłudze OpenAI. Wykorzystuje `stream` do przesyłania danych strumiennej, co pozwala na realny przepływ informacji między modeli i użytkownikiem. Wynik jest wyświetlany za pomocą `display_handle`, który umożliwia aktualizację wyników w czasie rzeczywistym. Ten kod może być użyty w aplicacjach, które require automatyzacji procesu generowania tekstu na podstawie wstępnego systemu lub danych."
      ],
      "text/plain": [
       "<IPython.core.display.Markdown object>"
      ]
     },
     "metadata": {},
     "output_type": "display_data"
    }
   ],
   "source": [
    "# Get Llama 3.2 to answer\n",
    "\n",
    "response = ollama.chat(model=MODEL_LLAMA, messages=messages)\n",
    "reply = response['message']['content']\n",
    "display(Markdown(reply))"
   ]
  },
  {
   "cell_type": "code",
   "execution_count": null,
   "id": "53fbf55d-991e-4290-82a3-a92f87f56719",
   "metadata": {},
   "outputs": [],
   "source": []
  }
 ],
 "metadata": {
  "kernelspec": {
   "display_name": "Python 3 (ipykernel)",
   "language": "python",
   "name": "python3"
  },
  "language_info": {
   "codemirror_mode": {
    "name": "ipython",
    "version": 3
   },
   "file_extension": ".py",
   "mimetype": "text/x-python",
   "name": "python",
   "nbconvert_exporter": "python",
   "pygments_lexer": "ipython3",
   "version": "3.13.2"
  }
 },
 "nbformat": 4,
 "nbformat_minor": 5
}
