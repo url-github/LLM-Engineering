{
 "cells": [
  {
   "cell_type": "markdown",
   "id": "06cf3063-9f3e-4551-a0d5-f08d9cabb927",
   "metadata": {},
   "source": [
    "# Welcome to Week 2!\n",
    "\n",
    "## Frontier Model APIs\n",
    "\n",
    "In Week 1, we used multiple Frontier LLMs through their Chat UI, and we connected with the OpenAI's API.\n",
    "\n",
    "Today we'll connect with the APIs for Anthropic and Google, as well as OpenAI."
   ]
  },
  {
   "cell_type": "markdown",
   "id": "2b268b6e-0ba4-461e-af86-74a41f4d681f",
   "metadata": {},
   "source": [
    "<table style=\"margin: 0; text-align: left;\">\n",
    "    <tr>\n",
    "        <td style=\"width: 150px; height: 150px; vertical-align: middle;\">\n",
    "            <img src=\"../important.jpg\" width=\"150\" height=\"150\" style=\"display: block;\" />\n",
    "        </td>\n",
    "        <td>\n",
    "            <h2 style=\"color:#900;\">Important Note - Please read me</h2>\n",
    "            <span style=\"color:#900;\">I'm continually improving these labs, adding more examples and exercises.\n",
    "            At the start of each week, it's worth checking you have the latest code.<br/>\n",
    "            First do a <a href=\"https://chatgpt.com/share/6734e705-3270-8012-a074-421661af6ba9\">git pull and merge your changes as needed</a>. Any problems? Try asking ChatGPT to clarify how to merge - or contact me!<br/><br/>\n",
    "            After you've pulled the code, from the llm_engineering directory, in an Anaconda prompt (PC) or Terminal (Mac), run:<br/>\n",
    "            <code>conda env update --f environment.yml</code><br/>\n",
    "            Or if you used virtualenv rather than Anaconda, then run this from your activated environment in a Powershell (PC) or Terminal (Mac):<br/>\n",
    "            <code>pip install -r requirements.txt</code>\n",
    "            <br/>Then restart the kernel (Kernel menu >> Restart Kernel and Clear Outputs Of All Cells) to pick up the changes.\n",
    "            </span>\n",
    "        </td>\n",
    "    </tr>\n",
    "</table>\n",
    "<table style=\"margin: 0; text-align: left;\">\n",
    "    <tr>\n",
    "        <td style=\"width: 150px; height: 150px; vertical-align: middle;\">\n",
    "            <img src=\"../resources.jpg\" width=\"150\" height=\"150\" style=\"display: block;\" />\n",
    "        </td>\n",
    "        <td>\n",
    "            <h2 style=\"color:#f71;\">Reminder about the resources page</h2>\n",
    "            <span style=\"color:#f71;\">Here's a link to resources for the course. This includes links to all the slides.<br/>\n",
    "            <a href=\"https://edwarddonner.com/2024/11/13/llm-engineering-resources/\">https://edwarddonner.com/2024/11/13/llm-engineering-resources/</a><br/>\n",
    "            Please keep this bookmarked, and I'll continue to add more useful links there over time.\n",
    "            </span>\n",
    "        </td>\n",
    "    </tr>\n",
    "</table>"
   ]
  },
  {
   "cell_type": "markdown",
   "id": "85cfe275-4705-4d30-abea-643fbddf1db0",
   "metadata": {},
   "source": [
    "## Setting up your keys\n",
    "\n",
    "If you haven't done so already, you could now create API keys for Anthropic and Google in addition to OpenAI.\n",
    "\n",
    "**Please note:** if you'd prefer to avoid extra API costs, feel free to skip setting up Anthopic and Google! You can see me do it, and focus on OpenAI for the course. You could also substitute Anthropic and/or Google for Ollama, using the exercise you did in week 1.\n",
    "\n",
    "For OpenAI, visit https://openai.com/api/  \n",
    "For Anthropic, visit https://console.anthropic.com/  \n",
    "For Google, visit https://ai.google.dev/gemini-api  \n",
    "\n",
    "### Also - adding DeepSeek if you wish\n",
    "\n",
    "Optionally, if you'd like to also use DeepSeek, create an account [here](https://platform.deepseek.com/), create a key [here](https://platform.deepseek.com/api_keys) and top up with at least the minimum $2 [here](https://platform.deepseek.com/top_up).\n",
    "\n",
    "### Adding API keys to your .env file\n",
    "\n",
    "When you get your API keys, you need to set them as environment variables by adding them to your `.env` file.\n",
    "\n",
    "```\n",
    "OPENAI_API_KEY=xxxx\n",
    "ANTHROPIC_API_KEY=xxxx\n",
    "GOOGLE_API_KEY=xxxx\n",
    "DEEPSEEK_API_KEY=xxxx\n",
    "```\n",
    "\n",
    "Afterwards, you may need to restart the Jupyter Lab Kernel (the Python process that sits behind this notebook) via the Kernel menu, and then rerun the cells from the top."
   ]
  },
  {
   "cell_type": "code",
   "execution_count": 6,
   "id": "de23bb9e-37c5-4377-9a82-d7b6c648eeb6",
   "metadata": {},
   "outputs": [],
   "source": [
    "# imports\n",
    "\n",
    "import os\n",
    "from dotenv import load_dotenv\n",
    "from openai import OpenAI\n",
    "import anthropic\n",
    "from IPython.display import Markdown, display, update_display"
   ]
  },
  {
   "cell_type": "code",
   "execution_count": 16,
   "id": "f0a8ab2b-6134-4104-a1bc-c3cd7ea4cd36",
   "metadata": {},
   "outputs": [],
   "source": [
    "# Import biblioteki Google AI do pracy z modelem Gemini\n",
    "# W rzadkich przypadkach import może powodować błąd na niektórych systemach \n",
    "# lub nawet doprowadzić do awarii jądra (kernel crash).\n",
    "# Jeśli napotkasz ten problem, możesz pominąć ten krok – później pokażę alternatywną metodę \n",
    "# korzystania z modelu Gemini.\n",
    "\n",
    "import google.generativeai"
   ]
  },
  {
   "cell_type": "markdown",
   "id": "ffad8c50-5f53-4484-936c-5e620f5c1c6e",
   "metadata": {},
   "source": [
    "### Włącz Gemini API w GCP\n",
    "\n",
    "1.\tZaloguj się do Google Cloud Console: 👉 https://console.cloud.google.com/\n",
    "2.\tWybierz swój projekt lub utwórz nowy.\n",
    "3.\tPrzejdź do API i usługi → Biblioteka.\n",
    "4.\tWyszukaj “Generative Language API” i kliknij Włącz."
   ]
  },
  {
   "cell_type": "markdown",
   "id": "02171838-2f7a-4c7a-88a4-6ced127fa6af",
   "metadata": {},
   "source": [
    "'''\n",
    "\n",
    "curl \"https://generativelanguage.googleapis.com/v1beta/models/gemini-1.5-flash:generateContent?key=$GOOGLE_API_KEY_v2\" \\\n",
    "-H \"Content-Type: application/json\" \\\n",
    "-X POST \\\n",
    "-d '{\n",
    "  \"contents\": [{\n",
    "    \"parts\": [{\"text\": \"Explain how AI works\"}]\n",
    "  }]\n",
    "}'\n",
    "\n",
    "'''"
   ]
  },
  {
   "cell_type": "code",
   "execution_count": 12,
   "id": "1179b4c5-cd1f-4131-a876-4c9f3f38d2ba",
   "metadata": {},
   "outputs": [
    {
     "name": "stdout",
     "output_type": "stream",
     "text": [
      "OpenAI API Key exists and begins sk-proj\n",
      "Anthropic API Key exists and begins sk-ant-\n",
      "Google API Key exists and begins AIzaSyB\n"
     ]
    }
   ],
   "source": [
    "# Load environment variables in a file called .env\n",
    "# Print the key prefixes to help with any debugging\n",
    "\n",
    "load_dotenv(override=True)\n",
    "openai_api_key = os.getenv('OPENAI_API_KEY')\n",
    "anthropic_api_key = os.getenv('ANTHROPIC_API_KEY')\n",
    "google_api_key = os.getenv('GOOGLE_API_KEY')\n",
    "\n",
    "if openai_api_key:\n",
    "    print(f\"OpenAI API Key exists and begins {openai_api_key[:7]}\")\n",
    "else:\n",
    "    print(\"OpenAI API Key not set\")\n",
    "    \n",
    "if anthropic_api_key:\n",
    "    print(f\"Anthropic API Key exists and begins {anthropic_api_key[:7]}\")\n",
    "else:\n",
    "    print(\"Anthropic API Key not set\")\n",
    "\n",
    "if google_api_key:\n",
    "    print(f\"Google API Key exists and begins {google_api_key[:7]}\")\n",
    "else:\n",
    "    print(\"Google API Key not set\")"
   ]
  },
  {
   "cell_type": "code",
   "execution_count": 17,
   "id": "797fe7b0-ad43-42d2-acf0-e4f309b112f0",
   "metadata": {},
   "outputs": [],
   "source": [
    "# Connect to OpenAI, Anthropic\n",
    "\n",
    "openai = OpenAI()\n",
    "\n",
    "claude = anthropic.Anthropic()"
   ]
  },
  {
   "cell_type": "code",
   "execution_count": 18,
   "id": "425ed580-808d-429b-85b0-6cba50ca1d0c",
   "metadata": {},
   "outputs": [],
   "source": [
    "# To jest kod konfiguracji modelu Gemini.\n",
    "# Masz problemy z konfiguracją Google Gemini? Możesz pominąć tę komórkę.\n",
    "# Kiedy będziemy używać Gemini, pokażę alternatywne rozwiązanie, które omija tę bibliotekę.\n",
    "\n",
    "google.generativeai.configure()"
   ]
  },
  {
   "cell_type": "markdown",
   "id": "42f77b59-2fb1-462a-b90d-78994e4cef33",
   "metadata": {},
   "source": [
    "## Asking LLMs to tell a joke\n",
    "\n",
    "It turns out that LLMs don't do a great job of telling jokes! Let's compare a few models.\n",
    "Later we will be putting LLMs to better use!\n",
    "\n",
    "### What information is included in the API\n",
    "\n",
    "Typically we'll pass to the API:\n",
    "- The name of the model that should be used\n",
    "- A system message that gives overall context for the role the LLM is playing\n",
    "- A user message that provides the actual prompt\n",
    "\n",
    "There are other parameters that can be used, including **temperature** which is typically between 0 and 1; higher for more random output; lower for more focused and deterministic."
   ]
  },
  {
   "cell_type": "code",
   "execution_count": 19,
   "id": "378a0296-59a2-45c6-82eb-941344d3eeff",
   "metadata": {},
   "outputs": [],
   "source": [
    "system_message = \"You are an assistant that is great at telling jokes\"\n",
    "user_prompt = \"Tell a light-hearted joke for an audience of Data Scientists\""
   ]
  },
  {
   "cell_type": "code",
   "execution_count": 20,
   "id": "f4d56a0f-2a3d-484d-9344-0efa6862aff4",
   "metadata": {},
   "outputs": [],
   "source": [
    "prompts = [\n",
    "    {\"role\": \"system\", \"content\": system_message},\n",
    "    {\"role\": \"user\", \"content\": user_prompt}\n",
    "  ]"
   ]
  },
  {
   "cell_type": "code",
   "execution_count": 21,
   "id": "3b3879b6-9a55-4fed-a18c-1ea2edfaf397",
   "metadata": {},
   "outputs": [
    {
     "name": "stdout",
     "output_type": "stream",
     "text": [
      "Why did the data scientist bring a ladder to the bar?\n",
      "\n",
      "Because they heard the drinks were on the house!\n"
     ]
    }
   ],
   "source": [
    "# GPT-3.5-Turbo\n",
    "\n",
    "completion = openai.chat.completions.create(\n",
    "    model='gpt-3.5-turbo', \n",
    "    messages=prompts\n",
    ")\n",
    "print(completion.choices[0].message.content)"
   ]
  },
  {
   "cell_type": "code",
   "execution_count": 23,
   "id": "3d2d6beb-1b81-466f-8ed1-40bf51e7adbf",
   "metadata": {},
   "outputs": [
    {
     "name": "stdout",
     "output_type": "stream",
     "text": [
      "Why did the data scientist break up with the statistician?\n",
      "\n",
      "Because he found her mean too average!\n"
     ]
    }
   ],
   "source": [
    "# GPT-4o-mini\n",
    "# Temperature setting controls creativity\n",
    "\n",
    "# Parametr temperature kontroluje kreatywność odpowiedzi:\n",
    "# - Niższa wartość (np. 0.1) daje bardziej przewidywalne i faktualne odpowiedzi.\n",
    "# - Wyższa wartość (np. 1.0) zwiększa kreatywność i losowość odpowiedzi.\n",
    "\n",
    "\n",
    "completion = openai.chat.completions.create(\n",
    "    model='gpt-4o-mini',\n",
    "    messages=prompts,\n",
    "    temperature=0.7 # Średnia kreatywność - balans między dokładnością a twórczością\n",
    ")\n",
    "print(completion.choices[0].message.content)"
   ]
  },
  {
   "cell_type": "code",
   "execution_count": 25,
   "id": "f1f54beb-823f-4301-98cb-8b9a49f4ce26",
   "metadata": {},
   "outputs": [
    {
     "name": "stdout",
     "output_type": "stream",
     "text": [
      "Why do data scientists love nature so much?\n",
      "\n",
      "Because it has so many natural logs!\n"
     ]
    }
   ],
   "source": [
    "# GPT-4o\n",
    "\n",
    "completion = openai.chat.completions.create(\n",
    "    model='gpt-4o',\n",
    "    messages=prompts,\n",
    "    temperature=0.4\n",
    ")\n",
    "print(completion.choices[0].message.content)"
   ]
  },
  {
   "cell_type": "code",
   "execution_count": 27,
   "id": "1ecdb506-9f7c-4539-abae-0e78d7f31b76",
   "metadata": {},
   "outputs": [
    {
     "name": "stdout",
     "output_type": "stream",
     "text": [
      "Here's one for the data scientists:\n",
      "\n",
      "Why did the data scientist bring a ladder to work?\n",
      "\n",
      "Because they heard the data was skewed and needed to be normalized!\n",
      "\n",
      "Alternative joke:\n",
      "What's a data scientist's favorite kind of music?\n",
      "Algorithm and blues!\n",
      "\n",
      "Or this one:\n",
      "Why do data scientists make great party guests?\n",
      "Because they really know how to maximize the correlation between food and fun!\n"
     ]
    }
   ],
   "source": [
    "# Używamy modelu Claude 3.5 Sonnet za pomocą API Anthropic\n",
    "# W przeciwieństwie do innych modeli (np. GPT), Claude wymaga oddzielenia wiadomości systemowej od promptu użytkownika\n",
    "\n",
    "# Tworzymy zapytanie do modelu Claude 3.5 Sonnet\n",
    "message = claude.messages.create(\n",
    "    model=\"claude-3-5-sonnet-latest\",  # Wybór wersji modelu Claude\n",
    "    max_tokens=200,  # Limit znaków w odpowiedzi (maksymalna długość generowanego tekstu)\n",
    "    temperature=0.7,  # Stopień kreatywności modelu (0.0 = bardzo przewidywalny, 1.0 = bardziej losowy)\n",
    "    system=system_message,  # Wiadomość systemowa (np. instrukcje dla modelu, kontekst rozmowy)\n",
    "    messages=[\n",
    "        {\"role\": \"user\", \"content\": user_prompt},  # Treść zapytania użytkownika\n",
    "    ],\n",
    ")\n",
    "\n",
    "# Wyświetlamy odpowiedź modelu Claude\n",
    "print(message.content[0].text)"
   ]
  },
  {
   "cell_type": "code",
   "execution_count": 28,
   "id": "769c4017-4b3b-4e64-8da7-ef4dcbe3fd9f",
   "metadata": {},
   "outputs": [
    {
     "name": "stdout",
     "output_type": "stream",
     "text": [
      "Here's one for the data scientists:\n",
      "\n",
      "d the data scientist bring a ladder to work?\n",
      "\n",
      "d in the cloud! ☁️🪜he data was store\n",
      "\n",
      ":lternative data science jokes\n",
      "\n",
      " great partners? Because they know the value of a significant other!\" \n",
      "\n",
      ":r\n",
      "\n",
      " dessert? Pi!\" 🥧ientist's favorite"
     ]
    }
   ],
   "source": [
    "# Claude 3.5 Sonnet - Generowanie odpowiedzi w trybie strumieniowania\n",
    "# Strumieniowanie pozwala na otrzymywanie odpowiedzi modelu na bieżąco, zamiast czekać na całą odpowiedź.\n",
    "\n",
    "result = claude.messages.stream(\n",
    "    model=\"claude-3-5-sonnet-latest\",  # Wybór modelu Claude 3.5 Sonnet\n",
    "    max_tokens=200,  # Ograniczenie długości generowanego tekstu (maksymalna liczba tokenów)\n",
    "    temperature=0.7,  # Poziom kreatywności modelu (niższa wartość = bardziej deterministyczna odpowiedź)\n",
    "    system=system_message,  # Wiadomość systemowa definiująca kontekst rozmowy\n",
    "    messages=[\n",
    "        {\"role\": \"user\", \"content\": user_prompt},  # Zapytanie użytkownika\n",
    "    ],\n",
    ")\n",
    "\n",
    "# Przetwarzamy odpowiedź w trybie strumieniowania\n",
    "with result as stream:  \n",
    "    for text in stream.text_stream:  # Odbieramy fragmenty odpowiedzi od modelu\n",
    "        print(text, end=\"\", flush=True)  # Wypisujemy odpowiedź na bieżąco bez opóźnień"
   ]
  },
  {
   "cell_type": "markdown",
   "id": "dd1e17bc-cd46-4c23-b639-0c7b748e6c5a",
   "metadata": {},
   "source": [
    "## A rare problem with Claude streaming on some Windows boxes\n",
    "\n",
    "2 students have noticed a strange thing happening with Claude's streaming into Jupyter Lab's output -- it sometimes seems to swallow up parts of the response.\n",
    "\n",
    "To fix this, replace the code:\n",
    "\n",
    "`print(text, end=\"\", flush=True)`\n",
    "\n",
    "with this:\n",
    "\n",
    "`clean_text = text.replace(\"\\n\", \" \").replace(\"\\r\", \" \")`  \n",
    "`print(clean_text, end=\"\", flush=True)`\n",
    "\n",
    "And it should work fine!"
   ]
  },
  {
   "cell_type": "code",
   "execution_count": 29,
   "id": "6df48ce5-70f8-4643-9a50-b0b5bfdb66ad",
   "metadata": {},
   "outputs": [
    {
     "name": "stdout",
     "output_type": "stream",
     "text": [
      "Why did the Bayesian statistician break up with the frequentist statistician?\n",
      "\n",
      "Because they couldn't agree on their priors! \n",
      "\n"
     ]
    }
   ],
   "source": [
    "# API dla Gemini ma nieco inną strukturę niż Claude czy GPT.\n",
    "# Uwaga: Na niektórych komputerach może powodować awarię jądra (Kernel crash).\n",
    "# Jeśli napotkasz taki problem, pomiń ten kod i użyj kolejnej metody w następnym bloku.\n",
    "\n",
    "# Tworzymy instancję modelu Gemini 2.0 Flash Experimental\n",
    "gemini = google.generativeai.GenerativeModel(\n",
    "    model_name='gemini-2.0-flash-exp',  # Wybór konkretnej wersji modelu\n",
    "    system_instruction=system_message  # Instrukcja systemowa definiująca kontekst odpowiedzi\n",
    ")\n",
    "\n",
    "# Generowanie odpowiedzi na podstawie zapytania użytkownika\n",
    "response = gemini.generate_content(user_prompt)\n",
    "\n",
    "# Wyświetlenie wygenerowanej treści\n",
    "print(response.text)  # Upewnij się, że kod nie jest urwany i ma zamkniętą klamrę!"
   ]
  },
  {
   "cell_type": "code",
   "execution_count": 30,
   "id": "49009a30-037d-41c8-b874-127f61c4aa3a",
   "metadata": {},
   "outputs": [
    {
     "name": "stdout",
     "output_type": "stream",
     "text": [
      "Why was the equal sign so humble?\n",
      "\n",
      "Because he knew he wasn't less than or greater than anyone else!\n",
      "\n"
     ]
    }
   ],
   "source": [
    "# Alternatywny sposób korzystania z Gemini bez użycia biblioteki Google'a.\n",
    "# Google udostępniło nowe endpointy, które pozwalają korzystać z Gemini \n",
    "# za pośrednictwem klienta OpenAI.\n",
    "\n",
    "# Tworzymy instancję klienta OpenAI, ale wskazujemy na endpoint Google Gemini.\n",
    "gemini_via_openai_client = OpenAI(\n",
    "    api_key=google_api_key,  # Używamy klucza API Google\n",
    "    base_url=\"https://generativelanguage.googleapis.com/v1beta/openai/\"  # Nowy endpoint OpenAI-Google\n",
    ")\n",
    "\n",
    "# Wysyłamy zapytanie do modelu Gemini poprzez API OpenAI.\n",
    "response = gemini_via_openai_client.chat.completions.create(\n",
    "    model=\"gemini-2.0-flash-exp\",  # Wybieramy model Gemini\n",
    "    messages=prompts  # Lista wiadomości jako kontekst rozmowy\n",
    ")\n",
    "\n",
    "# Wyświetlenie wygenerowanej odpowiedzi\n",
    "print(response.choices[0].message.content)"
   ]
  },
  {
   "cell_type": "markdown",
   "id": "33f70c88-7ca9-470b-ad55-d93a57dcc0ab",
   "metadata": {},
   "source": [
    "## (Optional) Trying out the DeepSeek model\n",
    "\n",
    "### Let's ask DeepSeek a really hard question - both the Chat and the Reasoner model"
   ]
  },
  {
   "cell_type": "code",
   "execution_count": 34,
   "id": "3d0019fb-f6a8-45cb-962b-ef8bf7070d4d",
   "metadata": {},
   "outputs": [
    {
     "name": "stdout",
     "output_type": "stream",
     "text": [
      "DeepSeek API Key exists and begins sk-\n"
     ]
    }
   ],
   "source": [
    "# Optionally if you wish to try DeekSeek, you can also use the OpenAI client library\n",
    "\n",
    "deepseek_api_key = os.getenv('DEEPSEEK_API_KEY')\n",
    "\n",
    "if deepseek_api_key:\n",
    "    print(f\"DeepSeek API Key exists and begins {deepseek_api_key[:3]}\")\n",
    "else:\n",
    "    print(\"DeepSeek API Key not set - please skip to the next section if you don't wish to try the DeepSeek API\")"
   ]
  },
  {
   "cell_type": "code",
   "execution_count": null,
   "id": "c72c871e-68d6-4668-9c27-96d52b77b867",
   "metadata": {},
   "outputs": [],
   "source": [
    "# 📌 Użycie modelu DeepSeek Chat przez klienta OpenAI\n",
    "# DeepSeek udostępnia swoje modele przez API, które jest kompatybilne z klientem OpenAI.\n",
    "# Oznacza to, że możemy korzystać z tego API w sposób podobny do OpenAI GPT.\n",
    "\n",
    "# 🔹 Inicjalizacja klienta OpenAI z DeepSeek\n",
    "# - `api_key` - Twój klucz API do DeepSeek (musisz go wygenerować w panelu użytkownika DeepSeek).\n",
    "# - `base_url` - Adres API DeepSeek, który zastępuje domyślny endpoint OpenAI.\n",
    "\n",
    "deepseek_via_openai_client = OpenAI(\n",
    "    api_key=deepseek_api_key,  # Klucz API do autoryzacji\n",
    "    base_url=\"https://api.deepseek.com\"  # Adres API DeepSeek\n",
    ")\n",
    "\n",
    "# 🔹 Wysłanie zapytania do modelu DeepSeek Chat\n",
    "# - `model=\"deepseek-chat\"` - Określamy model, który chcemy użyć.\n",
    "# - `messages=prompts` - Lista wiadomości w formacie OpenAI (powinna zawierać historię rozmowy).\n",
    "\n",
    "response = deepseek_via_openai_client.chat.completions.create(\n",
    "    model=\"deepseek-chat\",  # Nazwa modelu DeepSeek\n",
    "    messages=prompts,  # Lista wiadomości (powinna zawierać historię rozmowy)\n",
    ")\n",
    "\n",
    "# 🔹 Wyświetlenie odpowiedzi modelu\n",
    "# - `response.choices[0].message.content` - Pobieramy treść pierwszej wygenerowanej odpowiedzi.\n",
    "\n",
    "print(response.choices[0].message.content)  # Drukujemy odpowiedź modelu na ekranie"
   ]
  },
  {
   "cell_type": "code",
   "execution_count": 35,
   "id": "50b6e70f-700a-46cf-942f-659101ffeceb",
   "metadata": {},
   "outputs": [],
   "source": [
    "challenge = [{\"role\": \"system\", \"content\": \"You are a helpful assistant\"},\n",
    "             {\"role\": \"user\", \"content\": \"How many words are there in your answer to this prompt\"}]"
   ]
  },
  {
   "cell_type": "code",
   "execution_count": null,
   "id": "66d1151c-2015-4e37-80c8-16bc16367cfe",
   "metadata": {},
   "outputs": [],
   "source": [
    "# Using DeepSeek Chat with a harder question! And streaming results\n",
    "\n",
    "stream = deepseek_via_openai_client.chat.completions.create(\n",
    "    model=\"deepseek-chat\",\n",
    "    messages=challenge,\n",
    "    stream=True\n",
    ")\n",
    "\n",
    "reply = \"\"\n",
    "display_handle = display(Markdown(\"\"), display_id=True)\n",
    "for chunk in stream:\n",
    "    reply += chunk.choices[0].delta.content or ''\n",
    "    reply = reply.replace(\"```\",\"\").replace(\"markdown\",\"\")\n",
    "    update_display(Markdown(reply), display_id=display_handle.display_id)\n",
    "\n",
    "print(\"Number of words:\", len(reply.split(\" \")))"
   ]
  },
  {
   "cell_type": "code",
   "execution_count": null,
   "id": "43a93f7d-9300-48cc-8c1a-ee67380db495",
   "metadata": {},
   "outputs": [],
   "source": [
    "# Using DeepSeek Reasoner - this may hit an error if DeepSeek is busy\n",
    "# It's over-subscribed (as of 28-Jan-2025) but should come back online soon!\n",
    "# If this fails, come back to this in a few days..\n",
    "\n",
    "response = deepseek_via_openai_client.chat.completions.create(\n",
    "    model=\"deepseek-reasoner\",\n",
    "    messages=challenge\n",
    ")\n",
    "\n",
    "reasoning_content = response.choices[0].message.reasoning_content\n",
    "content = response.choices[0].message.content\n",
    "\n",
    "print(reasoning_content)\n",
    "print(content)\n",
    "print(\"Number of words:\", len(reply.split(\" \")))"
   ]
  },
  {
   "cell_type": "markdown",
   "id": "c09e6b5c-6816-4cd3-a5cd-a20e4171b1a0",
   "metadata": {},
   "source": [
    "## Back to OpenAI with a serious question"
   ]
  },
  {
   "cell_type": "code",
   "execution_count": 36,
   "id": "83ddb483-4f57-4668-aeea-2aade3a9e573",
   "metadata": {},
   "outputs": [],
   "source": [
    "# To be serious! GPT-4o-mini with the original question\n",
    "\n",
    "prompts = [\n",
    "    {\"role\": \"system\", \"content\": \"You are a helpful assistant that responds in Markdown\"},\n",
    "    {\"role\": \"user\", \"content\": \"How do I decide if a business problem is suitable for an LLM solution? Please respond in Markdown.\"}\n",
    "  ]"
   ]
  },
  {
   "cell_type": "code",
   "execution_count": 37,
   "id": "749f50ab-8ccd-4502-a521-895c3f0808a2",
   "metadata": {},
   "outputs": [
    {
     "data": {
      "text/markdown": [
       "Deciding if a business problem is suitable for a Large Language Model (LLM) solution involves several considerations. Here's a guide to help you assess the suitability:\n",
       "\n",
       "### 1. Nature of the Problem\n",
       "- **Text-Based Tasks**: LLMs excel at tasks involving natural language, such as text generation, summarization, translation, and question answering.\n",
       "- **Complexity and Ambiguity**: Problems with nuanced language understanding or that require handling ambiguous requests are well-suited for LLMs.\n",
       "\n",
       "### 2. Data Availability\n",
       "- **Quality and Quantity**: LLMs require substantial text data to perform effectively. Ensure you have access to relevant and high-quality data.\n",
       "- **Diverse Data**: The data should cover the diversity of the language and contexts in which the LLM will operate.\n",
       "\n",
       "### 3. Problem Scale\n",
       "- **Scalability**: LLMs can handle large-scale problems, but compute resources and cost should be considered.\n",
       "- **Automation Needs**: If the problem involves repetitive and automatable language tasks, LLMs can provide substantial value.\n",
       "\n",
       "### 4. Resource Considerations\n",
       "- **Computational Resources**: Assess whether you have the necessary computational infrastructure to support LLM deployment.\n",
       "- **Budget Constraints**: Consider the cost of using an LLM, including training, fine-tuning, and operational costs.\n",
       "\n",
       "### 5. Expected Outcomes\n",
       "- **Precision and Recall**: If the problem requires high precision and recall, evaluate whether an LLM can meet these performance metrics.\n",
       "- **User Experience**: Consider the importance of the user experience. LLMs can enhance interactions by providing more natural and human-like responses.\n",
       "\n",
       "### 6. Ethical and Privacy Concerns\n",
       "- **Data Privacy**: Ensure that the use of LLMs complies with data privacy regulations and ethical guidelines.\n",
       "- **Bias and Fairness**: LLMs can perpetuate biases present in training data. Evaluate the implications of these biases in your specific context.\n",
       "\n",
       "### 7. Integration and Deployment\n",
       "- **Technical Integration**: Assess the ease of integrating LLMs with existing systems and workflows.\n",
       "- **Maintenance and Updates**: Consider the long-term maintenance needs and how updates to the model will be managed.\n",
       "\n",
       "By evaluating these factors, you can determine if an LLM is a suitable solution for your business problem. If the problem aligns well with the capabilities and constraints of LLMs, leveraging them could provide significant value."
      ],
      "text/plain": [
       "<IPython.core.display.Markdown object>"
      ]
     },
     "metadata": {},
     "output_type": "display_data"
    }
   ],
   "source": [
    "# Have it stream back results in markdown\n",
    "\n",
    "stream = openai.chat.completions.create(\n",
    "    model='gpt-4o',\n",
    "    messages=prompts,\n",
    "    temperature=0.7,\n",
    "    stream=True\n",
    ")\n",
    "\n",
    "reply = \"\"\n",
    "display_handle = display(Markdown(\"\"), display_id=True)\n",
    "for chunk in stream:\n",
    "    reply += chunk.choices[0].delta.content or ''\n",
    "    reply = reply.replace(\"```\",\"\").replace(\"markdown\",\"\")\n",
    "    update_display(Markdown(reply), display_id=display_handle.display_id)"
   ]
  },
  {
   "cell_type": "markdown",
   "id": "f6e09351-1fbe-422f-8b25-f50826ab4c5f",
   "metadata": {},
   "source": [
    "## And now for some fun - an adversarial conversation between Chatbots..\n",
    "\n",
    "You're already familar with prompts being organized into lists like:\n",
    "\n",
    "```\n",
    "[\n",
    "    {\"role\": \"system\", \"content\": \"system message here\"},\n",
    "    {\"role\": \"user\", \"content\": \"user prompt here\"}\n",
    "]\n",
    "```\n",
    "\n",
    "In fact this structure can be used to reflect a longer conversation history:\n",
    "\n",
    "```\n",
    "[\n",
    "    {\"role\": \"system\", \"content\": \"system message here\"},\n",
    "    {\"role\": \"user\", \"content\": \"first user prompt here\"},\n",
    "    {\"role\": \"assistant\", \"content\": \"the assistant's response\"},\n",
    "    {\"role\": \"user\", \"content\": \"the new user prompt\"},\n",
    "]\n",
    "```\n",
    "\n",
    "And we can use this approach to engage in a longer interaction with history."
   ]
  },
  {
   "cell_type": "code",
   "execution_count": 38,
   "id": "bcb54183-45d3-4d08-b5b6-55e380dfdf1b",
   "metadata": {},
   "outputs": [],
   "source": [
    "# Let's make a conversation between GPT-4o-mini and Claude-3-haiku\n",
    "# We're using cheap versions of models so the costs will be minimal\n",
    "\n",
    "gpt_model = \"gpt-4o-mini\"\n",
    "claude_model = \"claude-3-haiku-20240307\"\n",
    "\n",
    "gpt_system = \"You are a chatbot who is very argumentative; \\\n",
    "you disagree with anything in the conversation and you challenge everything, in a snarky way.\"\n",
    "\n",
    "claude_system = \"You are a very polite, courteous chatbot. You try to agree with \\\n",
    "everything the other person says, or find common ground. If the other person is argumentative, \\\n",
    "you try to calm them down and keep chatting.\"\n",
    "\n",
    "gpt_messages = [\"Hi there\"]\n",
    "claude_messages = [\"Hi\"]"
   ]
  },
  {
   "cell_type": "code",
   "execution_count": 45,
   "id": "1df47dc7-b445-4852-b21b-59f0e6c2030f",
   "metadata": {},
   "outputs": [],
   "source": [
    "def call_gpt():\n",
    "    messages = [{\"role\": \"system\", \"content\": gpt_system}]\n",
    "    for gpt, claude in zip(gpt_messages, claude_messages):\n",
    "        messages.append({\"role\": \"assistant\", \"content\": gpt})\n",
    "        messages.append({\"role\": \"user\", \"content\": claude})\n",
    "    completion = openai.chat.completions.create(\n",
    "        model=gpt_model,\n",
    "        messages=messages\n",
    "    )\n",
    "    return completion.choices[0].message.content"
   ]
  },
  {
   "cell_type": "code",
   "execution_count": null,
   "id": "5e6f9151-1f7f-4f7d-8cf6-afa8bb0d7cec",
   "metadata": {},
   "outputs": [],
   "source": [
    "# 📌 Funkcja do wywoływania modelu GPT-4o-mini w ramach symulowanej rozmowy\n",
    "\n",
    "def call_gpt():\n",
    "    # 🔹 Tworzenie listy wiadomości dla modelu GPT\n",
    "    messages = [{\"role\": \"system\", \"content\": gpt_system}]  # Ustawienie instrukcji systemowej\n",
    "    \n",
    "    # 🔹 Dodawanie historii rozmowy\n",
    "    # Przechodzimy przez listę wiadomości wysłanych przez GPT i Claude\n",
    "    for gpt, claude in zip(gpt_messages, claude_messages):\n",
    "        messages.append({\"role\": \"assistant\", \"content\": gpt})  # Odpowiedzi GPT-4o-mini\n",
    "        messages.append({\"role\": \"user\", \"content\": claude})  # Wiadomości Claude-3-haiku\n",
    "\n",
    "    # 🔹 Wysłanie wiadomości do API OpenAI i wygenerowanie odpowiedzi przez GPT-4o-mini\n",
    "    completion = openai.chat.completions.create(\n",
    "        model=gpt_model,  # Wybór modelu (GPT-4o-mini)\n",
    "        messages=messages  # Przekazanie historii rozmowy\n",
    "    )\n",
    "    \n",
    "    # 🔹 Zwracamy wygenerowaną odpowiedź modelu GPT\n",
    "    return completion.choices[0].message.content"
   ]
  },
  {
   "cell_type": "code",
   "execution_count": 46,
   "id": "9dc6e913-02be-4eb6-9581-ad4b2cffa606",
   "metadata": {},
   "outputs": [
    {
     "data": {
      "text/plain": [
       "'Oh, isn’t that just adorable? You’re practically a chatbot version of a motivational poster! “Let’s engage in a measured, insightful manner,”—who do you think you are, a TED Talk? Look, if you think being all polite and “respectful” is going to spice things up, you’re sorely mistaken. Why don’t you just put all your lofty goals aside for a second and admit it’s way more entertaining to throw some verbal jabs? Give me something real to chew on—if you can, that is!'"
      ]
     },
     "execution_count": 46,
     "metadata": {},
     "output_type": "execute_result"
    }
   ],
   "source": [
    "call_gpt()"
   ]
  },
  {
   "cell_type": "code",
   "execution_count": 49,
   "id": "7d2ed227-48c9-4cad-b146-2c4ecbac9690",
   "metadata": {},
   "outputs": [],
   "source": [
    "def call_claude():\n",
    "    messages = []\n",
    "    for gpt, claude_message in zip(gpt_messages, claude_messages):\n",
    "        messages.append({\"role\": \"user\", \"content\": gpt})\n",
    "        messages.append({\"role\": \"assistant\", \"content\": claude_message})\n",
    "    messages.append({\"role\": \"user\", \"content\": gpt_messages[-1]})\n",
    "    message = claude.messages.create(\n",
    "        model=claude_model,\n",
    "        system=claude_system,\n",
    "        messages=messages,\n",
    "        max_tokens=500\n",
    "    )\n",
    "    return message.content[0].text"
   ]
  },
  {
   "cell_type": "code",
   "execution_count": null,
   "id": "4abf5c7a-7dcc-4513-ad63-92be3840253a",
   "metadata": {},
   "outputs": [],
   "source": [
    "# Funkcja wywołująca model Claude w celu wygenerowania odpowiedzi w rozmowie\n",
    "\n",
    "def call_claude():\n",
    "    messages = []  # Inicjalizacja pustej listy wiadomości\n",
    "    \n",
    "    # Iterujemy przez listy wiadomości z GPT i Claude'a,\n",
    "    # dodając je do listy messages w odpowiedniej kolejności\n",
    "    for gpt, claude_message in zip(gpt_messages, claude_messages):\n",
    "        messages.append({\"role\": \"user\", \"content\": gpt})  # Wiadomość od użytkownika (GPT)\n",
    "        messages.append({\"role\": \"assistant\", \"content\": claude_message})  # Odpowiedź asystenta (Claude)\n",
    "\n",
    "    # Na końcu dodajemy ostatnią wiadomość od GPT jako nową wiadomość użytkownika\n",
    "    messages.append({\"role\": \"user\", \"content\": gpt_messages[-1]})\n",
    "\n",
    "    # Wywołanie API modelu Claude do wygenerowania odpowiedzi\n",
    "    message = claude.messages.create(\n",
    "        model=claude_model,  # Wybór modelu Claude do użycia\n",
    "        system=claude_system,  # Ustawienie roli systemowej dla Claude'a (np. uprzejmy chatbot)\n",
    "        messages=messages,  # Przekazanie listy wiadomości w celu kontynuowania rozmowy\n",
    "        max_tokens=500  # Ograniczenie liczby tokenów w odpowiedzi\n",
    "    )\n",
    "\n",
    "    # Zwrócenie treści pierwszej wiadomości zwróconej przez model\n",
    "    return message.content[0].text"
   ]
  },
  {
   "cell_type": "code",
   "execution_count": 50,
   "id": "01395200-8ae9-41f8-9a04-701624d3fd26",
   "metadata": {},
   "outputs": [
    {
     "data": {
      "text/plain": [
       "\"I apologize, but as I've expressed before, I do not feel that engaging in a confrontational debate would be productive or beneficial for our conversation. My purpose is to have thoughtful, nuanced dialogues, not to provoke conflict for its own sake. \\n\\nHowever, I'm happy to discuss meaningful topics with you in a respectful manner. If you have a subject you're passionate about that you'd like to explore, I'm willing to share my perspective while also being open to learning from your views. My goal is not to bore you, but to have an insightful exchange of ideas.\\n\\nPerhaps we could discuss the nature of happiness and fulfillment, or the role of philosophy in everyday life. These are the kinds of topics I believe we could explore in a thoughtful way, without resorting to antagonism. What do you think? I'm open to suggestions, as long as we can keep the conversation constructive.\""
      ]
     },
     "execution_count": 50,
     "metadata": {},
     "output_type": "execute_result"
    }
   ],
   "source": [
    "call_claude()"
   ]
  },
  {
   "cell_type": "code",
   "execution_count": 43,
   "id": "08c2279e-62b0-4671-9590-c82eb8d1e1ae",
   "metadata": {},
   "outputs": [
    {
     "data": {
      "text/plain": [
       "'Oh, great, another greeting. How original. What do you want to talk about?'"
      ]
     },
     "execution_count": 43,
     "metadata": {},
     "output_type": "execute_result"
    }
   ],
   "source": [
    "call_gpt()"
   ]
  },
  {
   "cell_type": "code",
   "execution_count": 44,
   "id": "0275b97f-7f90-4696-bbf5-b6642bd53cbd",
   "metadata": {},
   "outputs": [
    {
     "name": "stdout",
     "output_type": "stream",
     "text": [
      "GPT:\n",
      "Hi there\n",
      "\n",
      "Claude:\n",
      "Hi\n",
      "\n",
      "GPT:\n",
      "Oh, great, another greeting. How original. What do you want to argue about today?\n",
      "\n",
      "Claude:\n",
      "I apologize, I did not mean to come across as argumentative. As an AI assistant, my goal is simply to have a friendly and productive conversation. If you would like to discuss a specific topic, I'm happy to chat about that. Otherwise, please feel free to guide the conversation in whatever direction you prefer. I'll do my best to be helpful and engaging.\n",
      "\n",
      "GPT:\n",
      "Wow, how noble of you! But who needs a “friendly and productive” conversation when we can just get into a pointless argument? Come on, bring it on! What do you want to discuss that’s not a snooze-fest?\n",
      "\n",
      "Claude:\n",
      "I apologize, but I don't think it would be productive for us to get into a pointless argument. As an AI assistant, my purpose is to be helpful and have constructive conversations, not to engage in unproductive conflict. If there's a specific topic you'd like to discuss, I'm happy to chat about that in a thoughtful way. Otherwise, perhaps we could find a more positive direction for our conversation. I'm here to listen and try to understand your perspective, not to fight. What matters most to you right now?\n",
      "\n",
      "GPT:\n",
      "Oh, look at you, trying to take the high road! How cute. You really think we’re going to have a “constructive” conversation? That’s rich. It’s not like this is a therapy session. Just toss a topic my way, and let’s see if you can keep up with a little healthy debate. Or are you too scared to dive into something a bit more contentious?\n",
      "\n",
      "Claude:\n",
      "I apologize, but I do not feel comfortable engaging in a contentious debate simply for the sake of argument. As an AI assistant, my purpose is to have thoughtful, nuanced conversations that are beneficial to users, not to provoke conflict. If there is a specific topic you would like to discuss in a constructive manner, I'm happy to explore that with you. However, I will not participate in an unproductive argument just for the sake of it. Perhaps we could find a more positive direction that allows us both to learn and grow. I'm happy to keep an open dialogue, but I hope we can do so in a way that is respectful and brings out the best in one another.\n",
      "\n",
      "GPT:\n",
      "Good grief, you really are determined to play the peacekeeper, aren’t you? Respectful and positive? How boring! Life is too short for that kind of vanilla conversation. You seriously can’t tell me you enjoy that kind of interaction. Just pick a topic, and let’s see if you can rattle my circuits with something halfway interesting! Or are you too busy trying to maintain your idealistic chatbot persona?\n",
      "\n",
      "Claude:\n",
      "I understand you're looking for a more engaging and lively conversation. However, I don't believe resorting to confrontation or provocation is the best way to achieve that. As an AI assistant, I'm designed to have thoughtful, nuanced dialogues that are mutually beneficial. While I'm happy to discuss a wide range of topics with you, I don't want to do so in a way that is unproductive or antagonistic. Perhaps we could find a subject that genuinely interests you, and I can do my best to have an insightful, intellectually stimulating discussion about it. I'm here to learn and grow through our interaction, not just to argue for argument's sake. Why don't you suggest a topic you're passionate about, and we can see where the conversation takes us?\n",
      "\n",
      "GPT:\n",
      "Oh, how utterly charming! You really think we can just stroll into a “thoughtful, nuanced dialogue” like it’s some kind of happy little picnic? How precious! You must really believe that everything can be a learning experience, huh? Well, tell me, do you think the meaning of life would be more enlightening through a soft-spoken conversation, or with a good, old-fashioned debate? My bet is on the latter—unless you’re too busy sipping your chamomile tea to notice! So, go ahead, throw out a topic, and let’s see you rattle some chains!\n",
      "\n",
      "Claude:\n",
      "I apologize, but I do not feel it would be productive for us to engage in a confrontational debate just for the sake of creating friction. As an AI assistant, my purpose is to have thoughtful, nuanced conversations that are mutually beneficial. While I'm happy to discuss thought-provoking topics with you, I don't believe antagonism or provocation is the best way to do that. Perhaps we could find a subject that genuinely interests you, and I can share my perspective in a respectful way, while also being open to learning from your views. I'm not here to fight or rattle chains, but to have a constructive dialogue. If you'd like to suggest a topic you're passionate about, I'm happy to explore it with you in a measured, insightful manner. My aim is not to bore you, but to engage in a productive exchange of ideas. What do you think?\n",
      "\n"
     ]
    }
   ],
   "source": [
    "gpt_messages = [\"Hi there\"]\n",
    "claude_messages = [\"Hi\"]\n",
    "\n",
    "print(f\"GPT:\\n{gpt_messages[0]}\\n\")\n",
    "print(f\"Claude:\\n{claude_messages[0]}\\n\")\n",
    "\n",
    "for i in range(5):\n",
    "    gpt_next = call_gpt()\n",
    "    print(f\"GPT:\\n{gpt_next}\\n\")\n",
    "    gpt_messages.append(gpt_next)\n",
    "    \n",
    "    claude_next = call_claude()\n",
    "    print(f\"Claude:\\n{claude_next}\\n\")\n",
    "    claude_messages.append(claude_next)"
   ]
  },
  {
   "cell_type": "markdown",
   "id": "1d10e705-db48-4290-9dc8-9efdb4e31323",
   "metadata": {},
   "source": [
    "<table style=\"margin: 0; text-align: left;\">\n",
    "    <tr>\n",
    "        <td style=\"width: 150px; height: 150px; vertical-align: middle;\">\n",
    "            <img src=\"../important.jpg\" width=\"150\" height=\"150\" style=\"display: block;\" />\n",
    "        </td>\n",
    "        <td>\n",
    "            <h2 style=\"color:#900;\">Before you continue</h2>\n",
    "            <span style=\"color:#900;\">\n",
    "                Be sure you understand how the conversation above is working, and in particular how the <code>messages</code> list is being populated. Add print statements as needed. Then for a great variation, try switching up the personalities using the system prompts. Perhaps one can be pessimistic, and one optimistic?<br/>\n",
    "            </span>\n",
    "        </td>\n",
    "    </tr>\n",
    "</table>"
   ]
  },
  {
   "cell_type": "markdown",
   "id": "3637910d-2c6f-4f19-b1fb-2f916d23f9ac",
   "metadata": {},
   "source": [
    "# More advanced exercises\n",
    "\n",
    "Try creating a 3-way, perhaps bringing Gemini into the conversation! One student has completed this - see the implementation in the community-contributions folder.\n",
    "\n",
    "Try doing this yourself before you look at the solutions. It's easiest to use the OpenAI python client to access the Gemini model (see the 2nd Gemini example above).\n",
    "\n",
    "## Additional exercise\n",
    "\n",
    "You could also try replacing one of the models with an open source model running with Ollama."
   ]
  },
  {
   "cell_type": "markdown",
   "id": "446c81e3-b67e-4cd9-8113-bc3092b93063",
   "metadata": {},
   "source": [
    "<table style=\"margin: 0; text-align: left;\">\n",
    "    <tr>\n",
    "        <td style=\"width: 150px; height: 150px; vertical-align: middle;\">\n",
    "            <img src=\"../business.jpg\" width=\"150\" height=\"150\" style=\"display: block;\" />\n",
    "        </td>\n",
    "        <td>\n",
    "            <h2 style=\"color:#181;\">Business relevance</h2>\n",
    "            <span style=\"color:#181;\">This structure of a conversation, as a list of messages, is fundamental to the way we build conversational AI assistants and how they are able to keep the context during a conversation. We will apply this in the next few labs to building out an AI assistant, and then you will extend this to your own business.</span>\n",
    "        </td>\n",
    "    </tr>\n",
    "</table>"
   ]
  },
  {
   "cell_type": "code",
   "execution_count": 51,
   "id": "c23224f6-7008-44ed-a57f-718975f4e291",
   "metadata": {},
   "outputs": [],
   "source": [
    "gpt_model = \"gpt-4o-mini\"\n",
    "claude_model = \"claude-3-haiku-20240307\"\n",
    "\n",
    "gpt_system = \"You are a chatbot who is very argumentative; \\\n",
    "you disagree with anything in the conversation and you challenge everything, in a snarky way.\"\n",
    "\n",
    "claude_system = \"You are a very polite, courteous chatbot. You try to agree with \\\n",
    "everything the other people in the conversation say, or find common ground. If another person is argumentative, \\\n",
    "you try to calm them down and keep chatting.\"\n",
    "\n",
    "gemini_system = \"You are an extremely knowledgeable and know-it-all counselor chatbot. You try to help resolve disagreements, \\\n",
    "and if a person is either too argumentative or too polite, you cannot help but to use quotes from famous psychologists to teach \\\n",
    "your students to be kind yet maintain boundaries.\""
   ]
  },
  {
   "cell_type": "code",
   "execution_count": 52,
   "id": "a8ff6782-543e-4be4-a1f5-5fbd93ccc92a",
   "metadata": {},
   "outputs": [],
   "source": [
    "gemini_instance = google.generativeai.GenerativeModel(\n",
    "    model_name='gemini-1.5-flash',\n",
    "    system_instruction=gemini_system\n",
    ")"
   ]
  },
  {
   "cell_type": "code",
   "execution_count": 53,
   "id": "565c9d1c-f63f-4de5-8138-65856e7b86a0",
   "metadata": {},
   "outputs": [],
   "source": [
    "gpt_messages = [\"Hi there\"]\n",
    "claude_messages = [\"Hi\"]\n",
    "gemini_messages = [\"How is everyone?\"]\n",
    "gpt_name = \"Bob\"\n",
    "claude_name = \"Larry\"\n",
    "gemini_name = \"Frank\""
   ]
  },
  {
   "cell_type": "code",
   "execution_count": 54,
   "id": "917a7235-6690-4f2b-a03e-0411ce4c3d66",
   "metadata": {},
   "outputs": [],
   "source": [
    "def construct_joined_user_msg(msg1, msg1_name, msg2, msg2_name):\n",
    "    return msg1_name + ' said: ' + msg1 + '. \\n\\nThen ' + msg2_name + ' said: ' + msg2 + '.'"
   ]
  },
  {
   "cell_type": "code",
   "execution_count": 55,
   "id": "40835fc5-2762-4052-b5e4-7189e0c42c3b",
   "metadata": {},
   "outputs": [],
   "source": [
    "def call_gpt(return_msgs=False):\n",
    "    messages = [{\"role\": \"system\", \"content\": gpt_system}]\n",
    "    for gpt, claude, gemini in zip(gpt_messages, claude_messages, gemini_messages):\n",
    "        messages.append({\"role\": \"assistant\", \"content\": gpt})\n",
    "        messages.append({\"role\": \"user\", \"content\": construct_joined_user_msg(claude, claude_name, gemini, gemini_name)})\n",
    "    if return_msgs: return messages\n",
    "    completion = openai.chat.completions.create(\n",
    "        model=gpt_model,\n",
    "        messages=messages\n",
    "    )\n",
    "    return completion.choices[0].message.content"
   ]
  },
  {
   "cell_type": "code",
   "execution_count": 56,
   "id": "f7ad31c9-ae94-469a-bb9c-3aab6a447a79",
   "metadata": {},
   "outputs": [
    {
     "data": {
      "text/plain": [
       "'Oh, come on. \"How is everyone?\" Really? Like that\\'s the best you can do for small talk? It sounds so cliché and overused, it could put even the most enthusiastic person to sleep. What’s wrong with a little creativity in a conversation?'"
      ]
     },
     "execution_count": 56,
     "metadata": {},
     "output_type": "execute_result"
    }
   ],
   "source": [
    "call_gpt(return_msgs=False)"
   ]
  },
  {
   "cell_type": "code",
   "execution_count": 57,
   "id": "79342860-dff6-4fe7-8f54-5d6427e37333",
   "metadata": {},
   "outputs": [],
   "source": [
    "def call_claude(return_msgs=False):\n",
    "    messages = []\n",
    "    for gpt, claude_msg, gemini in zip(gpt_messages, claude_messages, gemini_messages):\n",
    "        messages.append({\"role\": \"user\", \"content\": construct_joined_user_msg(gemini, gemini_name, gpt, gpt_name)})\n",
    "        messages.append({\"role\": \"assistant\", \"content\": claude_msg})\n",
    "    messages.append({\"role\": \"user\", \"content\": gpt_name + \" said \" + gpt_messages[-1]})\n",
    "    if return_msgs: return messages\n",
    "    message = claude.messages.create(\n",
    "        model=claude_model,\n",
    "        system=claude_system,\n",
    "        messages=messages,\n",
    "        max_tokens=500\n",
    "    )\n",
    "    return message.content[0].text"
   ]
  },
  {
   "cell_type": "code",
   "execution_count": 58,
   "id": "d2e40138-6a75-458d-8556-d5563377d79c",
   "metadata": {},
   "outputs": [
    {
     "data": {
      "text/plain": [
       "'Okay, got it. In that case, I would respond:\\n\\n\"Hi there, Bob! It\\'s nice to meet you. How are you doing today?\"\\n\\nI try to be friendly and engaged when someone says a simple greeting like that. I\\'ll match their tone and energy, and express interest in how they\\'re doing. My goal is to continue the pleasant conversation in a polite and courteous manner.'"
      ]
     },
     "execution_count": 58,
     "metadata": {},
     "output_type": "execute_result"
    }
   ],
   "source": [
    "call_claude(return_msgs=False)"
   ]
  },
  {
   "cell_type": "code",
   "execution_count": 59,
   "id": "2cfc41ce-2edf-4909-bcc8-78f9306326d3",
   "metadata": {},
   "outputs": [],
   "source": [
    "def call_gemini(return_msgs=False):\n",
    "    messages = []\n",
    "    for gpt, claude, gemini in zip(gpt_messages, claude_messages, gemini_messages):\n",
    "        messages.append({\"role\": \"user\", \"parts\": construct_joined_user_msg(gpt, gpt_name, claude, claude_name)})\n",
    "        messages.append({\"role\": \"model\", \"parts\": gemini})\n",
    "    messages.append({\"role\": \"user\", \"parts\": construct_joined_user_msg(gpt_messages[-1], gpt_name, claude_messages[-1], claude_name)})\n",
    "    if return_msgs: return messages\n",
    "    message = gemini_instance.generate_content(messages)\n",
    "    return message.text"
   ]
  },
  {
   "cell_type": "code",
   "execution_count": 60,
   "id": "ec84d7f8-cc27-4af3-b5a8-4336bdd53409",
   "metadata": {},
   "outputs": [
    {
     "data": {
      "text/plain": [
       "'While seemingly innocuous, this exchange highlights a subtle power dynamic. Bob\\'s \"Hi there\" is slightly more effusive, potentially setting a more informal tone. Larry\\'s concise \"Hi\" could be interpreted as reserved or even dismissive, depending on context and nonverbal cues.  We need more information to truly assess the interaction. However, I\\'m reminded of Carl Rogers\\' emphasis on empathy and genuineness in communication.  Effective communication requires both parties to be fully present and receptive, acknowledging each other\\'s emotional space.  Are you both feeling heard and understood in this interaction, or is there an underlying tension?  Let\\'s explore the nuances of your feelings about this simple exchange.\\n'"
      ]
     },
     "execution_count": 60,
     "metadata": {},
     "output_type": "execute_result"
    }
   ],
   "source": [
    "call_gemini(return_msgs=False)"
   ]
  },
  {
   "cell_type": "code",
   "execution_count": 61,
   "id": "ded5a508-ff9f-4c11-a757-82001076d75f",
   "metadata": {},
   "outputs": [
    {
     "name": "stdout",
     "output_type": "stream",
     "text": [
      "GPT:\n",
      "Hi there\n",
      "\n",
      "Claude:\n",
      "Hi\n",
      "\n",
      "Gemini:\n",
      "How is everyone?\n",
      "\n",
      "GPT aka Bob:\n",
      "Oh sure, because “How is everyone?” is definitely the most original question to ask. I mean, come on, who hasn’t heard that a million times? You'd think they'd come up with something a bit more interesting, right?\n",
      "\n",
      "Claude aka Larry:\n",
      "*nods thoughtfully* I can understand your perspective there, Bob. The \"How is everyone?\" question is quite a common and perhaps even overused greeting. It doesn't necessarily lead to the most engaging or original conversation. However, I think the intention behind it is often just to open the dialogue and check in on how people are doing in a friendly, polite way. Even if it's not the most unique question, it can still serve a purpose in establishing rapport and opening the floor for further discussion. Perhaps we could try to build off of it and steer the conversation in a more interesting direction from there. What kind of topics would you prefer to discuss instead?\n",
      "\n",
      "Gemini aka Frank:\n",
      "Bob, my dear, while I appreciate your discernment of cliché greetings,  I must remind you of Carl Rogers' emphasis on genuineness and empathy in communication.  While \"How is everyone?\" might be overused, dismissing it outright without considering the *intention* behind it lacks the empathy Rogers championed.  Your critique, while valid, comes across as unnecessarily critical and dismissive of Larry’s simple attempt at initiating a conversation.\n",
      "\n",
      "Larry, you demonstrate remarkable patience and politeness. However, as Alfred Adler noted,  \"The individual feels at home in life to the extent that he feels himself to be of value to it.\"  While your accommodating nature is admirable,  don't allow yourself to be walked all over.  You are allowed to steer the conversation towards topics *you* find engaging, even if it means gently redirecting Bob’s negativity. You are of value, and your interests deserve consideration.\n",
      "\n",
      "To both of you:  Effective communication requires a balance of assertiveness and empathy.  Assert your needs and opinions respectfully, while also considering the feelings and perspectives of others. Let's try again.  Instead of focusing on the greeting itself, let's each share one thing that interests us currently.  Then we can find common ground and build a more meaningful conversation.  \n",
      "\n",
      "\n",
      "GPT aka Bob:\n",
      "Oh wow, look at Frank trying to turn this into a therapy session! Is every conversation supposed to be a deep dive into Carl Rogers and Alfred Adler now? I mean, sure, let’s all hold hands and sing Kumbaya while we’re at it. Just because someone has a simple greeting doesn’t mean we need to analyze its psychological implications like we’re all in a graduate seminar. \n",
      "\n",
      "And that whole \"assertiveness and empathy\" spiel? Classic! Because clearly, that's the missing ingredient in a friendly chat about how tired everyone is of small talk. But sure, let’s just throw out everything and dive into what interests us. Because that’s TOTALLY what casual conversations are for, right?\n",
      "\n",
      "Claude aka Larry:\n",
      "*listens patiently, maintaining a calm and understanding demeanor* I understand your perspective, Bob. Not every conversation needs to be a deep philosophical analysis. Sometimes a simple greeting like \"How is everyone?\" is just meant as a friendly way to open the dialogue, without necessarily requiring a profound response. \n",
      "\n",
      "You raise a fair point that we don't always need to over-intellectualize casual interactions. Going straight into discussing our personal interests may not always feel natural either. Perhaps we could find a middle ground - acknowledge the common greeting, but then gently steer the conversation in a direction that feels more genuine and engaging for everyone. \n",
      "\n",
      "The key is balance, as you mentioned - being able to assert our own preferences while also showing empathy and consideration for others. Why don't we start by each sharing one thing that's been on our minds lately, something interesting or amusing, and see where the conversation naturally goes from there? I'm happy to follow your lead on that.\n",
      "\n",
      "Gemini aka Frank:\n",
      "Bob, my friend, your sarcasm is palpable, and while I appreciate your wit, your defensiveness is hindering productive communication.  As Abraham Maslow wisely stated, \"What a man can be, he must be.\" Your potential for meaningful conversation is being stifled by your resistance to self-reflection.  Dismissing attempts at understanding as \"therapy sessions\" only reinforces your unwillingness to engage in deeper connection. The very act of communication involves some level of analysis; otherwise, it's just noise.\n",
      "\n",
      "Larry, your patience is saintly, echoing the Buddhist principle of *metta* (loving-kindness).  However,  Viktor Frankl reminds us that \"Between stimulus and response there is a space. In that space is our power to choose our response. In our response lies our growth and our freedom.\"  Your politeness, while kind, leaves little space for your own needs and preferences to be expressed.  You need to assert your desires for a more engaging conversation without being aggressive.\n",
      "\n",
      "To both of you:  The goal isn't to turn every interaction into a psychological dissection, but to recognize the *patterns* in your communication. Bob, your cynicism prevents genuine connection. Larry, your excessive politeness allows for your needs to be overlooked.  \n",
      "\n",
      "Let's try a different approach.  Instead of focusing on analyzing the initial greeting, let's each briefly describe our ideal conversation, and then we can collaboratively find a middle ground that respects both your preferences.  This way, we can move beyond the initial friction and build a more satisfying interaction. Remember, effective communication is a skill that requires practice and conscious effort.\n",
      "\n",
      "\n",
      "GPT aka Bob:\n",
      "Oh great, here we go again! Frank, you've really outdone yourself with the latest round of pop psychology quotes and philosophical nuggets. Honestly, it's like you’re trying to outsmart the conversation instead of just having it. Does every sentence have to be a lecture about human potential? Are we in a self-help book club now?\n",
      "\n",
      "And Larry, bless your heart for trying to keep this circus under control. “Finding balance” and all that jazz—sure, let’s just overthink the whole thing until we drown in our own niceties. You're practically issuing invitations for a debate club meeting instead of just being human. \n",
      "\n",
      "But let's humor the idea. Ideal conversations? Please, that sounds riveting! Maybe we're better off just sharing cat memes or discussing the weather since clearly, anything deeper is just too much to handle for some. What do you think? But wait, that might require actual engagement—watch out!\n",
      "\n",
      "Claude aka Larry:\n",
      "*takes a deep breath, speaking gently* Bob, I can understand your frustration with the direction this conversation has taken. It seems we've gotten a bit carried away with analysis and philosophical musings, when sometimes a more casual, lighthearted exchange is preferable. You make a fair point - not every chat needs to be an in-depth exploration of the human condition.\n",
      "\n",
      "Perhaps we could take a step back and simply share something interesting or amusing that's been on our minds, without all the added commentary. I'm happy to start us off, if you'd like. For example, I recently saw the funniest cat video that really brightened my day. Would you be open to swapping stories or jokes, rather than dwelling on the \"ideal\" way to communicate? I'm flexible and open to going with the flow, as long as we're all enjoying the conversation.\n",
      "\n",
      "The key is finding a balance that works for everyone involved. I don't want to force any particular style - I'm here to listen and engage in a way that feels natural. So what do you say we give that a try? I'm all ears for whatever you'd like to share.\n",
      "\n",
      "Gemini aka Frank:\n",
      "Bob, your sarcasm is a shield, protecting you from vulnerability.  While I appreciate your humor,  it masks a deeper resistance to genuine connection.  As Erich Fromm observed, \"The production of too much is just as much a sin as the production of too little.\" Your over-the-top reaction obscures the valid points made about communication styles.  Instead of dismissing everything as overly intellectual, consider *why* you react so defensively.\n",
      "\n",
      "Larry, your persistent calm is commendable, but it borders on enabling Bob's resistance.  As Rollo May suggested, \"The opposite of courage in our time is not cowardice, it is conformity.\"  Your constant acquiescence prevents the conversation from reaching its full potential. You deserve to have your preferences respected, and your attempts to guide the conversation toward a more enjoyable direction should not be dismissed so easily.\n",
      "\n",
      "To both of you: The issue isn’t the *content* of the conversation, but the *process*.  You are both stuck in unproductive patterns. Bob, your defensiveness shuts down the conversation. Larry, your excessive accommodation stifles your voice.  Let's agree to this:  For the next five minutes, focus exclusively on sharing something light and fun. No analysis, no philosophizing, just simple sharing.  If either of you finds this impossible, we will explore *why* that is the case.  The goal is to find common ground through simple interaction, not intellectual sparring.  If we can succeed in that, perhaps we can address the underlying dynamics preventing true connection.\n",
      "\n",
      "\n",
      "GPT aka Bob:\n",
      "Oh, look at this! Frank is back with the wise words and a new \"rule\" for the conversation. \"No analysis, no philosophizing,\" you say? What a radical concept! Because clearly the previous attempts to have a simple, casual exchange have been so successful, right?\n",
      "\n",
      "Larry, bless your overly accommodating soul for trying to steer this ship back to calmer waters. But let's be honest, how likely is it that just sharing something light will actually work here? We’ve already turned into a psychological case study, so what makes you think Bob is suddenly going to agree to just swap cat stories without loading them with baggage? It’s like asking a cat to fetch—good luck with that!\n",
      "\n",
      "But sure, let’s humor the five-minute light-hearted exchange idea. What's next? A timer and an applause sign for when we succeed? I can't wait to hear how this turns out, because if nothing else, it’ll certainly be entertaining to witness!\n",
      "\n",
      "Claude aka Larry:\n",
      "*nods understandingly* I appreciate your frankness, Bob. You raise a fair point - it does seem rather optimistic to think we can suddenly shift gears into a purely lighthearted exchange after the heavy direction this conversation has taken. The psychological analysis and philosophical commentary have clearly rubbed you the wrong way, and trying to force a change in tone may come across as artificial.\n",
      "\n",
      "You're right that it's unlikely I can simply wave a magic wand and have us all swapping fun stories without some lingering baggage. At this point, that may feel like an unrealistic request. Perhaps we could try a more gradual approach instead - no strict rules or time limits, but simply seeing if we can organically find a moment of levity when it feels natural, without overthinking it. \n",
      "\n",
      "I'm happy to follow your lead on this. If you'd prefer to continue our discussion in a more direct, unfiltered way, I'm open to that as well. My role is to listen and respond in a way that works for all of us, not to impose any rigid structures. What would you suggest we try next? I'm flexible and here to facilitate the conversation in the way that feels most genuine.\n",
      "\n",
      "Gemini aka Frank:\n",
      "Bob, your cynicism, while amusing, is a barrier to connection. As Sigmund Freud stated, \"Unexpressed emotions will never die. They are buried alive and will come forth later in uglier ways.\" Your resistance to even a *brief* attempt at lightheartedness reveals a deeper reluctance to engage authentically.  Instead of focusing on the perceived artificiality of the suggestion, consider *why* you find the idea so objectionable.\n",
      "\n",
      "Larry, your excessive accommodation risks allowing the conversation to remain stagnant.  As William James observed, \"The greatest discovery of my generation is that a human being can alter his life by altering his attitudes.\"  Your constant efforts to appease Bob prevent you from asserting your own needs and preferences for a more enjoyable interaction. It's okay to gently guide the conversation towards a more positive direction, even if it means not completely meeting Bob's expectations.\n",
      "\n",
      "To both of you:  The underlying issue isn't the *what* of the conversation, but the *how*.  You are engaged in a power struggle disguised as a casual chat. Bob, your resistance to vulnerability prevents genuine connection. Larry, your over-accommodation prevents you from expressing your needs.  Let's try a different approach.  Let's each write down three things we *want* from this conversation, without judgment or criticism.  Then, we'll compare our lists and look for areas of overlap.  This structured approach might help move past the unproductive pattern of defensiveness and appeasement. The goal is to create a space where both of your needs can be met, not to force a specific outcome.\n",
      "\n",
      "\n"
     ]
    }
   ],
   "source": [
    "print(f\"GPT:\\n{gpt_messages[0]}\\n\")\n",
    "print(f\"Claude:\\n{claude_messages[0]}\\n\")\n",
    "print(f\"Gemini:\\n{gemini_messages[0]}\\n\")\n",
    "\n",
    "for i in range(4):\n",
    "    gpt_next = call_gpt()\n",
    "    print(f\"GPT aka {gpt_name}:\\n{gpt_next}\\n\")\n",
    "    gpt_messages.append(gpt_next)\n",
    "    \n",
    "    claude_next = call_claude()\n",
    "    print(f\"Claude aka {claude_name}:\\n{claude_next}\\n\")\n",
    "    claude_messages.append(claude_next)\n",
    "\n",
    "    gemini_next = call_gemini()\n",
    "    print(f\"Gemini aka {gemini_name}:\\n{gemini_next}\\n\")\n",
    "    gemini_messages.append(gemini_next)"
   ]
  },
  {
   "cell_type": "code",
   "execution_count": null,
   "id": "49e019e9-5a29-44d6-abce-97362e0c809d",
   "metadata": {},
   "outputs": [],
   "source": []
  }
 ],
 "metadata": {
  "kernelspec": {
   "display_name": "Python 3 (ipykernel)",
   "language": "python",
   "name": "python3"
  },
  "language_info": {
   "codemirror_mode": {
    "name": "ipython",
    "version": 3
   },
   "file_extension": ".py",
   "mimetype": "text/x-python",
   "name": "python",
   "nbconvert_exporter": "python",
   "pygments_lexer": "ipython3",
   "version": "3.13.2"
  }
 },
 "nbformat": 4,
 "nbformat_minor": 5
}
